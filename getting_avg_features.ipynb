{
 "cells": [
  {
   "cell_type": "code",
   "execution_count": 83,
   "id": "9a855ee2",
   "metadata": {},
   "outputs": [],
   "source": [
    "from numpy import genfromtxt\n",
    "import librosa\n",
    "from datetime import datetime\n",
    "import os\n",
    "import numpy as np\n",
    "import pandas as pd\n",
    "import warnings\n",
    "warnings.filterwarnings(\"ignore\")"
   ]
  },
  {
   "cell_type": "code",
   "execution_count": 9,
   "id": "10cf2421",
   "metadata": {},
   "outputs": [
    {
     "name": "stdout",
     "output_type": "stream",
     "text": [
      "/Users/arunravishankar/ragam_identification/ragam_identification/songs/song_1.mp3\n"
     ]
    },
    {
     "name": "stderr",
     "output_type": "stream",
     "text": [
      "/Users/arunravishankar/opt/anaconda3/envs/ragam_id/lib/python3.8/site-packages/librosa/core/audio.py:162: UserWarning: PySoundFile failed. Trying audioread instead.\n",
      "  warnings.warn(\"PySoundFile failed. Trying audioread instead.\")\n"
     ]
    },
    {
     "name": "stdout",
     "output_type": "stream",
     "text": [
      "0:00:11.058435\n"
     ]
    }
   ],
   "source": [
    "\n",
    "\n",
    "begin_time = datetime.now()\n",
    "i=1\n",
    "workdir = os.path.join(os.getcwd(), 'songs')\n",
    "filename = os.path.join(workdir, 'song_{}.mp3'.format(i))\n",
    "print(filename)\n",
    "x, sr = librosa.load(filename)\n",
    "chromagram = librosa.feature.chroma_stft(x, sr=sr, hop_length=100, n_chroma=50)\n",
    "\n",
    "print(datetime.now() - begin_time)\n",
    "\n",
    "#my_data = genfromtxt(os.path.join(features_wd, 'full_chroma_1.csv'), delimiter=',')"
   ]
  },
  {
   "cell_type": "code",
   "execution_count": 10,
   "id": "1eb7b066",
   "metadata": {},
   "outputs": [],
   "source": []
  },
  {
   "cell_type": "code",
   "execution_count": 14,
   "id": "f56a2c84",
   "metadata": {},
   "outputs": [
    {
     "name": "stderr",
     "output_type": "stream",
     "text": [
      "/Users/arunravishankar/opt/anaconda3/envs/ragam_id/lib/python3.8/site-packages/librosa/core/audio.py:162: UserWarning: PySoundFile failed. Trying audioread instead.\n",
      "  warnings.warn(\"PySoundFile failed. Trying audioread instead.\")\n"
     ]
    },
    {
     "name": "stdout",
     "output_type": "stream",
     "text": [
      "0:00:21.031243\n"
     ]
    }
   ],
   "source": [
    "begin_time = datetime.now()\n",
    "mfccs_1, chroma_1, mel_1, contrast_1, tonnetz_1 = extract_feature(filename)\n",
    "print(datetime.now()-begin_time)"
   ]
  },
  {
   "cell_type": "code",
   "execution_count": 21,
   "id": "42d9260e",
   "metadata": {},
   "outputs": [],
   "source": [
    "df = pd.read_csv('sample_50_rand_df.csv')"
   ]
  },
  {
   "cell_type": "code",
   "execution_count": 24,
   "id": "8df84180",
   "metadata": {},
   "outputs": [
    {
     "data": {
      "text/html": [
       "<div>\n",
       "<style scoped>\n",
       "    .dataframe tbody tr th:only-of-type {\n",
       "        vertical-align: middle;\n",
       "    }\n",
       "\n",
       "    .dataframe tbody tr th {\n",
       "        vertical-align: top;\n",
       "    }\n",
       "\n",
       "    .dataframe thead th {\n",
       "        text-align: right;\n",
       "    }\n",
       "</style>\n",
       "<table border=\"1\" class=\"dataframe\">\n",
       "  <thead>\n",
       "    <tr style=\"text-align: right;\">\n",
       "      <th></th>\n",
       "      <th>Unnamed: 0</th>\n",
       "      <th>Unnamed: 0.1</th>\n",
       "      <th>Unnamed: 0.1.1</th>\n",
       "      <th>Concert ID</th>\n",
       "      <th>Track</th>\n",
       "      <th>Kriti</th>\n",
       "      <th>Ragam</th>\n",
       "      <th>Composer</th>\n",
       "      <th>Main Artist</th>\n",
       "      <th>Album hrefs</th>\n",
       "      <th>Download URLs</th>\n",
       "    </tr>\n",
       "  </thead>\n",
       "  <tbody>\n",
       "    <tr>\n",
       "      <th>0</th>\n",
       "      <td>1828</td>\n",
       "      <td>3369</td>\n",
       "      <td>36439</td>\n",
       "      <td>01 - C4133 - 4079-T_Sashidar-Flut</td>\n",
       "      <td>2</td>\n",
       "      <td>entani_nE_varNintunu</td>\n",
       "      <td>mukhAri</td>\n",
       "      <td>tyAgarAja</td>\n",
       "      <td>T Sashidar</td>\n",
       "      <td>https://www.sangeethamshare.org/tvg/UPLOADS-40...</td>\n",
       "      <td>https://www.sangeethamshare.org/fstream.php?fi...</td>\n",
       "    </tr>\n",
       "    <tr>\n",
       "      <th>1</th>\n",
       "      <td>2425</td>\n",
       "      <td>4444</td>\n",
       "      <td>42092</td>\n",
       "      <td>36 - C0001 - DKJ-MYSORE</td>\n",
       "      <td>13</td>\n",
       "      <td>ranjani_mrdu_pankaja</td>\n",
       "      <td>rAgamAlikA</td>\n",
       "      <td>tanjAvUr_sankara_iyer</td>\n",
       "      <td>DK Jayaraman</td>\n",
       "      <td>https://www.sangeethamshare.org/ramakrishnan_c...</td>\n",
       "      <td>https://www.sangeethamshare.org/fstream.php?fi...</td>\n",
       "    </tr>\n",
       "    <tr>\n",
       "      <th>2</th>\n",
       "      <td>3524</td>\n",
       "      <td>6502</td>\n",
       "      <td>9553</td>\n",
       "      <td>09 - C0138 - SSI--048-1974</td>\n",
       "      <td>5</td>\n",
       "      <td>ADamODi_galadE_rAmayya</td>\n",
       "      <td>cArukEsi</td>\n",
       "      <td>tyAgarAja</td>\n",
       "      <td>Semmangudi Srinivasa Iyer</td>\n",
       "      <td>https://www.sangeethamshare.org/ksj/Semmangudi...</td>\n",
       "      <td>https://www.sangeethamshare.org/fstream.php?fi...</td>\n",
       "    </tr>\n",
       "    <tr>\n",
       "      <th>3</th>\n",
       "      <td>5381</td>\n",
       "      <td>9804</td>\n",
       "      <td>14793</td>\n",
       "      <td>03 - C0393 - 252-TN_shEshagOpAlan</td>\n",
       "      <td>8</td>\n",
       "      <td>mAnamu_lEdA</td>\n",
       "      <td>hamIrkalyANi</td>\n",
       "      <td>tyAgarAja</td>\n",
       "      <td>TN Seshagopalan</td>\n",
       "      <td>https://www.sangeethamshare.org/manjunath/Carn...</td>\n",
       "      <td>https://www.sangeethamshare.org/fstream.php?fi...</td>\n",
       "    </tr>\n",
       "    <tr>\n",
       "      <th>4</th>\n",
       "      <td>4911</td>\n",
       "      <td>9048</td>\n",
       "      <td>9942</td>\n",
       "      <td>03 - C0801 - 449-TN_kriShNan-Dr_N</td>\n",
       "      <td>7</td>\n",
       "      <td>sakhi_prANa_sakhuDiTu</td>\n",
       "      <td>cenjuruTi</td>\n",
       "      <td>dharmapuri_subbarAya_iyer</td>\n",
       "      <td>TN Krishnan</td>\n",
       "      <td>https://www.sangeethamshare.org/manjunath/Carn...</td>\n",
       "      <td>https://www.sangeethamshare.org/fstream.php?fi...</td>\n",
       "    </tr>\n",
       "  </tbody>\n",
       "</table>\n",
       "</div>"
      ],
      "text/plain": [
       "   Unnamed: 0  Unnamed: 0.1  Unnamed: 0.1.1  \\\n",
       "0        1828          3369           36439   \n",
       "1        2425          4444           42092   \n",
       "2        3524          6502            9553   \n",
       "3        5381          9804           14793   \n",
       "4        4911          9048            9942   \n",
       "\n",
       "                          Concert ID  Track                   Kriti  \\\n",
       "0  01 - C4133 - 4079-T_Sashidar-Flut      2    entani_nE_varNintunu   \n",
       "1            36 - C0001 - DKJ-MYSORE     13    ranjani_mrdu_pankaja   \n",
       "2         09 - C0138 - SSI--048-1974      5  ADamODi_galadE_rAmayya   \n",
       "3  03 - C0393 - 252-TN_shEshagOpAlan      8             mAnamu_lEdA   \n",
       "4  03 - C0801 - 449-TN_kriShNan-Dr_N      7   sakhi_prANa_sakhuDiTu   \n",
       "\n",
       "          Ragam                   Composer                Main Artist  \\\n",
       "0       mukhAri                  tyAgarAja                 T Sashidar   \n",
       "1    rAgamAlikA      tanjAvUr_sankara_iyer               DK Jayaraman   \n",
       "2      cArukEsi                  tyAgarAja  Semmangudi Srinivasa Iyer   \n",
       "3  hamIrkalyANi                  tyAgarAja            TN Seshagopalan   \n",
       "4     cenjuruTi  dharmapuri_subbarAya_iyer                TN Krishnan   \n",
       "\n",
       "                                         Album hrefs  \\\n",
       "0  https://www.sangeethamshare.org/tvg/UPLOADS-40...   \n",
       "1  https://www.sangeethamshare.org/ramakrishnan_c...   \n",
       "2  https://www.sangeethamshare.org/ksj/Semmangudi...   \n",
       "3  https://www.sangeethamshare.org/manjunath/Carn...   \n",
       "4  https://www.sangeethamshare.org/manjunath/Carn...   \n",
       "\n",
       "                                       Download URLs  \n",
       "0  https://www.sangeethamshare.org/fstream.php?fi...  \n",
       "1  https://www.sangeethamshare.org/fstream.php?fi...  \n",
       "2  https://www.sangeethamshare.org/fstream.php?fi...  \n",
       "3  https://www.sangeethamshare.org/fstream.php?fi...  \n",
       "4  https://www.sangeethamshare.org/fstream.php?fi...  "
      ]
     },
     "execution_count": 24,
     "metadata": {},
     "output_type": "execute_result"
    }
   ],
   "source": [
    "df.head()"
   ]
  },
  {
   "cell_type": "code",
   "execution_count": 27,
   "id": "60832c9a",
   "metadata": {},
   "outputs": [
    {
     "name": "stdout",
     "output_type": "stream",
     "text": [
      "5042 shankarAbharaNam shankarAbharaNam\n"
     ]
    }
   ],
   "source": [
    "from sklearn.model_selection import train_test_split\n",
    "X_train_file, X_test_file, y_train_file, y_test_file = train_test_split(df.index, \n",
    "                                                    df['Ragam'], \n",
    "                                                    test_size = 0.1, \n",
    "                                                    random_state = 0,\n",
    "                                                    stratify = df['Ragam'])\n",
    "indices = list(X_train_file)\n",
    "ragams = list(y_train_file)\n",
    "print(indices[0], ragams[0], df.loc[indices[0]]['Ragam'])"
   ]
  },
  {
   "cell_type": "code",
   "execution_count": 143,
   "id": "390bfb42",
   "metadata": {},
   "outputs": [
    {
     "data": {
      "text/plain": [
       "5042"
      ]
     },
     "execution_count": 143,
     "metadata": {},
     "output_type": "execute_result"
    }
   ],
   "source": [
    "indices[0]"
   ]
  },
  {
   "cell_type": "code",
   "execution_count": 146,
   "id": "ab1ca68b",
   "metadata": {},
   "outputs": [
    {
     "data": {
      "text/plain": [
       "'shankarAbharaNam'"
      ]
     },
     "execution_count": 146,
     "metadata": {},
     "output_type": "execute_result"
    }
   ],
   "source": [
    "le.classes_[110]"
   ]
  },
  {
   "cell_type": "code",
   "execution_count": 147,
   "id": "f3ee0439",
   "metadata": {},
   "outputs": [
    {
     "data": {
      "text/plain": [
       "LabelEncoder()"
      ]
     },
     "execution_count": 147,
     "metadata": {},
     "output_type": "execute_result"
    }
   ],
   "source": [
    "import pandas as pd\n",
    "from sklearn.model_selection import train_test_split\n",
    "from datetime import datetime\n",
    "import numpy as np\n",
    "import os\n",
    "import librosa\n",
    "import warnings\n",
    "warnings.filterwarnings(\"ignore\")\n",
    "\n",
    "from sklearn import preprocessing\n",
    "def extract_feature(file_name, i):\n",
    "    X, sample_rate = librosa.load(file_name, offset = 20*i, duration = 10)\n",
    "    stft = np.abs(librosa.stft(X))\n",
    "    mfccs = np.mean(librosa.feature.mfcc(y=X, sr=sample_rate, n_mfcc=40).T,axis=0)\n",
    "    chroma = np.mean(librosa.feature.chroma_stft(S=stft, sr=sample_rate).T,axis=0)\n",
    "    mel = np.mean(librosa.feature.melspectrogram(X, sr=sample_rate).T,axis=0)\n",
    "    contrast = np.mean(librosa.feature.spectral_contrast(S=stft,\n",
    "    \tsr=sample_rate).T,axis=0)\n",
    "    tonnetz = np.mean(librosa.feature.tonnetz(y=librosa.effects.harmonic(X),\n",
    "    \tsr=sample_rate).T,axis=0)\n",
    "    return mfccs,chroma,mel,contrast,tonnetz\n",
    "\n",
    "def parse_audio_files(indices, ragams, le):\n",
    "    begin_time = datetime.now()\n",
    "    features, labels = np.empty((0,193)), np.empty(0) # 193 => total features\n",
    "    workdir = os.path.join(os.getcwd(), 'songs')\n",
    "    #le = preprocessing.LabelEncoder()\n",
    "    #le.fit(ragams)\n",
    "    j = 0\n",
    "    begin_time = datetime.now()\n",
    "    for index, ragam in zip(indices, ragams):\n",
    "        if j%50==0:\n",
    "            print(j, datetime.now().strftime(\"%H:%M:%S\"))\n",
    "        j+=1\n",
    "        filename = os.path.join(workdir, 'song_{}.mp3'.format(index)) \n",
    "        try:\n",
    "            for i in range(50):\n",
    "                mfccs, chroma, mel, contrast, tonnetz = extract_feature(filename, i)\n",
    "                ext_features = np.hstack([mfccs, chroma, mel, contrast, tonnetz])\n",
    "                features = np.vstack([features, ext_features])\n",
    "                ragam_e = le.transform([ragam])[0]\n",
    "                labels = np.append(labels, ragam_e)\n",
    "        except:\n",
    "            continue\n",
    "    print(datetime.now()-begin_time)\n",
    "    return np.array(features, dtype=np.float32), np.array(labels, dtype = np.int8)\n",
    "\n",
    "\n",
    "df = pd.read_csv('sample_50_rand_df.csv')\n",
    "X_train_file, X_test_file, y_train_file, y_test_file = train_test_split(df.index, \n",
    "                                                    df['Ragam'], \n",
    "                                                    test_size = 0.1, \n",
    "                                                    random_state = 0,\n",
    "                                                    stratify = df['Ragam'])\n",
    "indices = list(X_train_file)\n",
    "ragams = list(y_train_file)\n",
    "#print(indices[0], ragams[0], df.loc[indices[0]]['Ragam'])\n",
    "\n",
    "le = preprocessing.LabelEncoder()\n",
    "le.fit(ragams)\n",
    "\n",
    "\n",
    "#features = parse_audio_files(indices[6000:6500], ragams[6000:6500], le)\n",
    "#np.savetxt('features_13.csv', features[0], delimiter = ',')\n",
    "#np.savetxt('labels_13.csv', features[1], delimiter = ',')"
   ]
  },
  {
   "cell_type": "code",
   "execution_count": 149,
   "id": "81c3380c",
   "metadata": {},
   "outputs": [
    {
     "data": {
      "text/plain": [
       "'shankarAbharaNam'"
      ]
     },
     "execution_count": 149,
     "metadata": {},
     "output_type": "execute_result"
    }
   ],
   "source": [
    "le.classes_[110]"
   ]
  },
  {
   "cell_type": "code",
   "execution_count": 64,
   "id": "e9396e28",
   "metadata": {},
   "outputs": [
    {
     "data": {
      "text/plain": [
       "LabelEncoder()"
      ]
     },
     "execution_count": 64,
     "metadata": {},
     "output_type": "execute_result"
    }
   ],
   "source": [
    "le = preprocessing.LabelEncoder()\n",
    "le.fit(ragams)"
   ]
  },
  {
   "cell_type": "code",
   "execution_count": 118,
   "id": "221be336",
   "metadata": {},
   "outputs": [
    {
     "name": "stdout",
     "output_type": "stream",
     "text": [
      "0 23:11:09\n",
      "0:02:19.368626\n"
     ]
    }
   ],
   "source": [
    "features = parse_audio_files(indices[:3], ragams[:3])\n",
    "np.savetxt('features.csv', features[0], delimiter = ',')\n",
    "np.savetxt('labels.csv', features[1], delimiter = ',')"
   ]
  },
  {
   "cell_type": "code",
   "execution_count": 109,
   "id": "04172820",
   "metadata": {},
   "outputs": [],
   "source": [
    "np.savetxt('temp_f.csv', features[0], delimiter = ',')\n",
    "np.savetxt('temp_r.csv', features[1], delimiter = ',')"
   ]
  },
  {
   "cell_type": "code",
   "execution_count": 110,
   "id": "e0bf200d",
   "metadata": {},
   "outputs": [],
   "source": [
    "temp_f = np.genfromtxt('temp_f.csv', delimiter = ',')\n",
    "temp_r = np.genfromtxt('temp_r.csv', delimiter = ',')"
   ]
  },
  {
   "cell_type": "code",
   "execution_count": 103,
   "id": "f78d9e13",
   "metadata": {},
   "outputs": [
    {
     "data": {
      "text/plain": [
       "(96, 193)"
      ]
     },
     "execution_count": 103,
     "metadata": {},
     "output_type": "execute_result"
    }
   ],
   "source": [
    "features[0].shape"
   ]
  },
  {
   "cell_type": "code",
   "execution_count": 104,
   "id": "bc8d8250",
   "metadata": {},
   "outputs": [
    {
     "data": {
      "text/plain": [
       "(96,)"
      ]
     },
     "execution_count": 104,
     "metadata": {},
     "output_type": "execute_result"
    }
   ],
   "source": [
    "features[1].shape"
   ]
  },
  {
   "cell_type": "code",
   "execution_count": 101,
   "id": "f8fc2de9",
   "metadata": {},
   "outputs": [
    {
     "ename": "ValueError",
     "evalue": "could not broadcast input array from shape (96,193) into shape (96)",
     "output_type": "error",
     "traceback": [
      "\u001b[0;31m---------------------------------------------------------------------------\u001b[0m",
      "\u001b[0;31mValueError\u001b[0m                                Traceback (most recent call last)",
      "\u001b[0;32m<ipython-input-101-2871ca425d5a>\u001b[0m in \u001b[0;36m<module>\u001b[0;34m\u001b[0m\n\u001b[0;32m----> 1\u001b[0;31m \u001b[0mnp\u001b[0m\u001b[0;34m.\u001b[0m\u001b[0msavetxt\u001b[0m\u001b[0;34m(\u001b[0m\u001b[0;34m'temp.csv'\u001b[0m\u001b[0;34m,\u001b[0m \u001b[0mfeatures\u001b[0m\u001b[0;34m,\u001b[0m \u001b[0mdelimiter\u001b[0m \u001b[0;34m=\u001b[0m \u001b[0;34m\",\"\u001b[0m\u001b[0;34m)\u001b[0m\u001b[0;34m\u001b[0m\u001b[0;34m\u001b[0m\u001b[0m\n\u001b[0m",
      "\u001b[0;32m<__array_function__ internals>\u001b[0m in \u001b[0;36msavetxt\u001b[0;34m(*args, **kwargs)\u001b[0m\n",
      "\u001b[0;32m~/opt/anaconda3/envs/ragam_id/lib/python3.8/site-packages/numpy/lib/npyio.py\u001b[0m in \u001b[0;36msavetxt\u001b[0;34m(fname, X, fmt, delimiter, newline, header, footer, comments, encoding)\u001b[0m\n\u001b[1;32m   1388\u001b[0m \u001b[0;34m\u001b[0m\u001b[0m\n\u001b[1;32m   1389\u001b[0m     \u001b[0;32mtry\u001b[0m\u001b[0;34m:\u001b[0m\u001b[0;34m\u001b[0m\u001b[0;34m\u001b[0m\u001b[0m\n\u001b[0;32m-> 1390\u001b[0;31m         \u001b[0mX\u001b[0m \u001b[0;34m=\u001b[0m \u001b[0mnp\u001b[0m\u001b[0;34m.\u001b[0m\u001b[0masarray\u001b[0m\u001b[0;34m(\u001b[0m\u001b[0mX\u001b[0m\u001b[0;34m)\u001b[0m\u001b[0;34m\u001b[0m\u001b[0;34m\u001b[0m\u001b[0m\n\u001b[0m\u001b[1;32m   1391\u001b[0m \u001b[0;34m\u001b[0m\u001b[0m\n\u001b[1;32m   1392\u001b[0m         \u001b[0;31m# Handle 1-dimensional arrays\u001b[0m\u001b[0;34m\u001b[0m\u001b[0;34m\u001b[0m\u001b[0;34m\u001b[0m\u001b[0m\n",
      "\u001b[0;32m~/opt/anaconda3/envs/ragam_id/lib/python3.8/site-packages/numpy/core/_asarray.py\u001b[0m in \u001b[0;36masarray\u001b[0;34m(a, dtype, order)\u001b[0m\n\u001b[1;32m     83\u001b[0m \u001b[0;34m\u001b[0m\u001b[0m\n\u001b[1;32m     84\u001b[0m     \"\"\"\n\u001b[0;32m---> 85\u001b[0;31m     \u001b[0;32mreturn\u001b[0m \u001b[0marray\u001b[0m\u001b[0;34m(\u001b[0m\u001b[0ma\u001b[0m\u001b[0;34m,\u001b[0m \u001b[0mdtype\u001b[0m\u001b[0;34m,\u001b[0m \u001b[0mcopy\u001b[0m\u001b[0;34m=\u001b[0m\u001b[0;32mFalse\u001b[0m\u001b[0;34m,\u001b[0m \u001b[0morder\u001b[0m\u001b[0;34m=\u001b[0m\u001b[0morder\u001b[0m\u001b[0;34m)\u001b[0m\u001b[0;34m\u001b[0m\u001b[0;34m\u001b[0m\u001b[0m\n\u001b[0m\u001b[1;32m     86\u001b[0m \u001b[0;34m\u001b[0m\u001b[0m\n\u001b[1;32m     87\u001b[0m \u001b[0;34m\u001b[0m\u001b[0m\n",
      "\u001b[0;31mValueError\u001b[0m: could not broadcast input array from shape (96,193) into shape (96)"
     ]
    }
   ],
   "source": [
    "np.savetxt('temp.csv', features, delimiter = \",\")"
   ]
  },
  {
   "cell_type": "code",
   "execution_count": 94,
   "id": "af92eb7d",
   "metadata": {
    "scrolled": false
   },
   "outputs": [
    {
     "data": {
      "text/plain": [
       "numpy.ndarray"
      ]
     },
     "execution_count": 94,
     "metadata": {},
     "output_type": "execute_result"
    }
   ],
   "source": [
    "type(temp_features[1])"
   ]
  },
  {
   "cell_type": "code",
   "execution_count": null,
   "id": "b739caa0",
   "metadata": {},
   "outputs": [],
   "source": [
    "def spectro_gram(file, n_mels = 64, n_fft=1024, hop_len = 1000):\n",
    "    x, sr = librosa.load(file)\n",
    "    top_db = 80\n",
    "    spec = librosa.feature.melspectrogram()"
   ]
  },
  {
   "cell_type": "code",
   "execution_count": null,
   "id": "15211b0e",
   "metadata": {},
   "outputs": [],
   "source": [
    "def spectro_gram(aud, n_mels=64, n_fft=1024, hop_len=None):\n",
    "    sig,sr = aud\n",
    "    top_db = 80\n",
    "\n",
    "    # spec has shape [channel, n_mels, time], where channel is mono, stereo etc\n",
    "    spec = transforms.MelSpectrogram(sr, n_fft=n_fft, hop_length=hop_len, n_mels=n_mels)(sig)\n",
    "\n",
    "    # Convert to decibels\n",
    "    spec = transforms.AmplitudeToDB(top_db=top_db)(spec)\n",
    "    return (spec)"
   ]
  },
  {
   "cell_type": "code",
   "execution_count": 89,
   "id": "70be4ae5",
   "metadata": {
    "scrolled": true
   },
   "outputs": [
    {
     "data": {
      "text/plain": [
       "64"
      ]
     },
     "execution_count": 89,
     "metadata": {},
     "output_type": "execute_result"
    }
   ],
   "source": [
    "len(temp_features[0])"
   ]
  },
  {
   "cell_type": "code",
   "execution_count": 81,
   "id": "03957493",
   "metadata": {
    "scrolled": true
   },
   "outputs": [
    {
     "data": {
      "text/plain": [
       "126"
      ]
     },
     "execution_count": 81,
     "metadata": {},
     "output_type": "execute_result"
    }
   ],
   "source": [
    "len(temp_features[1])"
   ]
  },
  {
   "cell_type": "code",
   "execution_count": 59,
   "id": "056abcd0",
   "metadata": {},
   "outputs": [
    {
     "data": {
      "text/plain": [
       "(2,)"
      ]
     },
     "execution_count": 59,
     "metadata": {},
     "output_type": "execute_result"
    }
   ],
   "source": [
    "temp_features[1].shape"
   ]
  },
  {
   "cell_type": "code",
   "execution_count": 18,
   "id": "642116d9",
   "metadata": {
    "scrolled": true
   },
   "outputs": [
    {
     "data": {
      "text/plain": [
       "array([24.06562253, 17.22175933, 20.55255379, 20.87074738, 20.20954483,\n",
       "       23.67583122, 31.1582898 ])"
      ]
     },
     "execution_count": 18,
     "metadata": {},
     "output_type": "execute_result"
    }
   ],
   "source": [
    "contrast_1"
   ]
  },
  {
   "cell_type": "code",
   "execution_count": null,
   "id": "fff79ec2",
   "metadata": {},
   "outputs": [],
   "source": [
    "chromagram"
   ]
  },
  {
   "cell_type": "code",
   "execution_count": 5,
   "id": "8ef93e27",
   "metadata": {},
   "outputs": [],
   "source": [
    "chromagram = librosa.feature.chroma_stft(x, sr=sr, hop_length=100, n_chroma=50)"
   ]
  },
  {
   "cell_type": "code",
   "execution_count": 6,
   "id": "f720f73c",
   "metadata": {},
   "outputs": [
    {
     "data": {
      "text/plain": [
       "array([[0.28605565, 0.28991267, 0.22822933, ..., 0.513678  , 0.60782605,\n",
       "        0.68441325],\n",
       "       [0.22866431, 0.25834963, 0.23497471, ..., 0.4396744 , 0.461213  ,\n",
       "        0.449429  ],\n",
       "       [0.30673528, 0.33042783, 0.27929902, ..., 0.36918798, 0.42427793,\n",
       "        0.46696594],\n",
       "       ...,\n",
       "       [0.19833562, 0.22123653, 0.18341634, ..., 0.6990352 , 0.7096223 ,\n",
       "        0.65649253],\n",
       "       [0.21953504, 0.23454404, 0.19006346, ..., 0.5990146 , 0.62074125,\n",
       "        0.6032168 ],\n",
       "       [0.31848478, 0.30835178, 0.22280104, ..., 0.5681043 , 0.6546815 ,\n",
       "        0.7269734 ]], dtype=float32)"
      ]
     },
     "execution_count": 6,
     "metadata": {},
     "output_type": "execute_result"
    }
   ],
   "source": [
    "chromagram"
   ]
  },
  {
   "cell_type": "code",
   "execution_count": 3,
   "id": "c790dada",
   "metadata": {
    "scrolled": true
   },
   "outputs": [
    {
     "data": {
      "text/plain": [
       "array([0., 0., 0., ..., 0., 0., 0.], dtype=float32)"
      ]
     },
     "execution_count": 3,
     "metadata": {},
     "output_type": "execute_result"
    }
   ],
   "source": [
    "x"
   ]
  },
  {
   "cell_type": "code",
   "execution_count": 4,
   "id": "4b739793",
   "metadata": {},
   "outputs": [
    {
     "data": {
      "text/plain": [
       "22050"
      ]
     },
     "execution_count": 4,
     "metadata": {},
     "output_type": "execute_result"
    }
   ],
   "source": [
    "sr"
   ]
  },
  {
   "cell_type": "code",
   "execution_count": 135,
   "id": "8d142a66",
   "metadata": {},
   "outputs": [],
   "source": [
    "temp = np.genfromtxt('features_05.csv', delimiter = ',')"
   ]
  },
  {
   "cell_type": "code",
   "execution_count": 136,
   "id": "17985cbf",
   "metadata": {},
   "outputs": [
    {
     "data": {
      "text/plain": [
       "(14465, 193)"
      ]
     },
     "execution_count": 136,
     "metadata": {},
     "output_type": "execute_result"
    }
   ],
   "source": [
    "temp.shape"
   ]
  },
  {
   "cell_type": "code",
   "execution_count": 137,
   "id": "3d2a0a86",
   "metadata": {},
   "outputs": [],
   "source": [
    "temp_l = np.genfromtxt('labels_05.csv', delimiter = ',')"
   ]
  },
  {
   "cell_type": "code",
   "execution_count": 142,
   "id": "9aec3693",
   "metadata": {},
   "outputs": [
    {
     "data": {
      "text/plain": [
       "array([ 51.,  51.,  51.,  51.,  51.,  51.,  51.,  51.,  51.,  51.,  51.,\n",
       "        51.,  51.,  51.,  51.,  51.,  51.,  51.,  51.,  51.,  51.,  51.,\n",
       "        51.,  51.,  51.,  51.,  51.,  51.,  51.,  51.,  51.,  51.,  51.,\n",
       "        51.,  51.,  51.,  51.,  51.,  51.,  51.,  51.,  51.,  51.,  51.,\n",
       "        51.,  51.,  51.,  51.,  51., 115., 115., 115., 115., 115., 115.,\n",
       "       115., 115., 115., 115., 115., 115., 115., 115., 115., 115., 115.,\n",
       "       115., 115., 115., 115., 115., 115., 115., 115., 115., 115., 115.,\n",
       "       115., 115., 115., 115., 115., 115., 115., 115., 115., 115., 115.,\n",
       "       115., 115., 115., 115., 115., 115., 115., 115., 115., 117., 117.,\n",
       "       117., 117., 117., 117., 117., 117., 117., 117., 117., 117., 117.,\n",
       "       117., 117., 117., 117., 117., 117., 117., 117., 117., 117.,  75.,\n",
       "        75.,  75.,  75.,  75.,  75.,  75.,  75.,  75.,  75.,  75.,  75.,\n",
       "        75.,  75.,  75.,  75.,  75.,  75.,  75.,  75.,  75.,  75.,  75.,\n",
       "        75.,  75.,  75.,  75.,  75.,  75.,  75.,  75.,  75.,  75.,  75.,\n",
       "        75.,  75.,  75.,  75.,  75.,  75.,  75.,  75.,  75.,  75.,  75.,\n",
       "        75.,  75.,  75.,  75.,  75.,   8.,   8.,   8.,   8.,   8.,   8.,\n",
       "         8.,   8.,   8.,   8.,   8.,   8.,   8.,   8.,   8.,   8.,   8.,\n",
       "         8.,   8.,   5.,   5.,   5.,   5.,   5.,   5.,   5.,   5.,   5.,\n",
       "         5.,   5.,   5.,   5.,   5.,   5.,   5.,   5.,   5.,   5.,   5.,\n",
       "         5.,   5.,   5.,   5.,   5.,   5.,   5.,   5.,   5.,   5.,   5.,\n",
       "         5.,   5.,   5.,   5.,   5.,   5.,   5.,   5.,   5.,   5.,   5.,\n",
       "         5.,  55.,  55.,  55.,  55.,  55.,  55.,  55.,  55.,  55.,  55.,\n",
       "        55.,  55.,  55.,  55.,  55.,  55.,  55.,  55.,  55.,  55.,  55.,\n",
       "        55.,  55.,  55.,  55.,  55.,  55.,  55.,  55.,  55.,  55.,  55.,\n",
       "        55.,  55.,  55.,  55.,  55.,  55.,  55.,  55.,  55.,  55.,  55.,\n",
       "       126., 126., 126., 126., 126., 126., 126., 126., 126., 126., 126.,\n",
       "       126., 126., 126., 126., 126., 126., 126., 126., 126., 126., 126.,\n",
       "       126., 126., 126., 126., 126., 126., 126., 126., 126., 126., 126.,\n",
       "       126., 126., 126., 126., 126., 126., 126., 126., 126., 126., 126.,\n",
       "       126., 126., 126., 126., 126., 126., 123., 123., 123., 123., 123.,\n",
       "       123., 123., 123., 123., 123., 123., 123., 123., 123., 123., 123.,\n",
       "       123., 123., 123., 123., 123., 123., 123., 123., 123., 123., 123.,\n",
       "       123., 123., 123., 123., 123., 123., 123., 123., 123., 123., 123.,\n",
       "       123., 123., 123., 123., 123., 123.,  67.,  67.,  67.,  67.,  67.,\n",
       "        67.,  67.,  67.,  67.,  67.,  67.,  67.,  67.,  67.,  67.,  67.,\n",
       "        67.,  67.,  67.,  67.,  67.,  67.,  67.,  67.,  67.,  67.,  67.,\n",
       "        67.,  67.,  67.,  67.,  67.,  67.,  67.,  67.,  67.,  67.,  67.,\n",
       "        67.,  67.,  67.,  67.,  67.,  67.,  67.,  67.,  67.,  67.,  67.,\n",
       "        67.,  67.,  67.,  67.,  67.,  67.,  67.,  67.,  67.,  67.,  13.,\n",
       "        13.,  13.,  13.,  13.,  13.,  13.,  13.,  13.,  13.,  13.,  13.,\n",
       "        13.,  13.,  13.,  13.,  13.,  13.,  13.,  13.,  13.,  13.,  13.,\n",
       "        13.,  13.,  13.,  13.,  13.,  13.,  13.,  13.,  13.,  13.,  13.,\n",
       "        13.,  13.,  13.,  13.,  13.,  13.,  13.,   0.,   0.,   0.,   0.,\n",
       "         0.,   0.,   0.,   0.,   0.,   0.,   0.,   0.,   0.,   0.,   0.,\n",
       "         0.,   0.,   0.,   0.,   0.,   0.,   0.,   0.,   0.,   0.,   0.,\n",
       "         0.,   0.,   0.,   0.,  75.])"
      ]
     },
     "execution_count": 142,
     "metadata": {},
     "output_type": "execute_result"
    }
   ],
   "source": [
    "temp_l[:500]"
   ]
  },
  {
   "cell_type": "code",
   "execution_count": 134,
   "id": "b4b7806a",
   "metadata": {
    "collapsed": true
   },
   "outputs": [
    {
     "data": {
      "text/plain": [
       "69135"
      ]
     },
     "execution_count": 134,
     "metadata": {},
     "output_type": "execute_result"
    }
   ],
   "source": [
    "13827 * 5"
   ]
  },
  {
   "cell_type": "code",
   "execution_count": null,
   "id": "567a908a",
   "metadata": {},
   "outputs": [],
   "source": []
  }
 ],
 "metadata": {
  "kernelspec": {
   "display_name": "Python 3",
   "language": "python",
   "name": "python3"
  },
  "language_info": {
   "codemirror_mode": {
    "name": "ipython",
    "version": 3
   },
   "file_extension": ".py",
   "mimetype": "text/x-python",
   "name": "python",
   "nbconvert_exporter": "python",
   "pygments_lexer": "ipython3",
   "version": "3.8.8"
  }
 },
 "nbformat": 4,
 "nbformat_minor": 5
}
