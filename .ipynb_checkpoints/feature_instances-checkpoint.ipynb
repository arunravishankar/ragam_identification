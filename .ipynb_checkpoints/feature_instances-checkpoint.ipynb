{
 "cells": [
  {
   "cell_type": "code",
   "execution_count": 1,
   "id": "7c318b79",
   "metadata": {},
   "outputs": [],
   "source": [
    "from datetime import datetime\n",
    "import os\n",
    "from numpy import genfromtxt\n",
    "import pandas as pd\n",
    "\n",
    "features_wd = os.path.join(os.getcwd(), 'features')"
   ]
  },
  {
   "cell_type": "code",
   "execution_count": 5,
   "id": "fa82fc11",
   "metadata": {},
   "outputs": [],
   "source": [
    "import pandas as pd\n",
    "df = pd.read_csv('sample_50_rand_df.csv')"
   ]
  },
  {
   "cell_type": "code",
   "execution_count": 6,
   "id": "02150550",
   "metadata": {},
   "outputs": [
    {
     "data": {
      "text/plain": [
       "'https://www.sangeethamshare.org/fstream.php?file=/home/data/www.sangeethamshare.org/public_html/tvg/UPLOADS-4001---4200/4079-T_Sashidar-Flute/02-entani_nE_varNintunu-mukhAri.mp3&amp;url=https://www.sangeethamshare.org/tvg/UPLOADS-4001---4200/4079-T_Sashidar-Flute/'"
      ]
     },
     "execution_count": 6,
     "metadata": {},
     "output_type": "execute_result"
    }
   ],
   "source": [
    "df['Download URLs'][0]"
   ]
  },
  {
   "cell_type": "code",
   "execution_count": 6,
   "id": "44e4e0d4",
   "metadata": {},
   "outputs": [],
   "source": [
    "df = df[['Concert ID', 'Track', 'Kriti', 'Ragam', 'Composer', 'Main Artist']]\n",
    "df = df[df['Ragam'] != 'rAgamAlikA']"
   ]
  },
  {
   "cell_type": "code",
   "execution_count": 7,
   "id": "a4257127",
   "metadata": {},
   "outputs": [],
   "source": [
    "from sklearn.model_selection import train_test_split\n",
    "X_train_file, X_test_file, y_train_file, y_test_file = train_test_split(df.index, \n",
    "                                                    df['Ragam'], \n",
    "                                                    test_size = 0.05, \n",
    "                                                    random_state = 0,\n",
    "                                                    stratify = df['Ragam'])\n",
    "indices = list(X_train_file)\n",
    "ragams = list(y_train_file)"
   ]
  },
  {
   "cell_type": "code",
   "execution_count": 11,
   "id": "81e29d8a",
   "metadata": {},
   "outputs": [],
   "source": [
    "import pandas as pd\n",
    "def split_n_seconds(i, ragam, samp, n):\n",
    "    try:\n",
    "        data = np.genfromtxt(os.path.join(features_wd, 'chroma_{}.csv'.format(i)), delimiter = ',')/50\n",
    "    except:\n",
    "        return \n",
    "    try:\n",
    "        r = len(data)%(22*n)\n",
    "        x = len(data)//(22*n)\n",
    "    except:\n",
    "        return\n",
    "\n",
    "    try: \n",
    "        tot_obs = np.split(data[:len(data)-r], x)\n",
    "    except:\n",
    "        return\n",
    "    df = pd.DataFrame([tot_obs[0]], columns = np.arange(44))\n",
    "    j=0\n",
    "    for j in range(1, len(tot_obs)):\n",
    "        df = df.append([tot_obs[j]], ignore_index=True)\n",
    "    df['Ragam'] = ragam\n",
    "    if len(df) >= samp:\n",
    "        df = df.sample(samp, random_state=0).reset_index()    \n",
    "        \n",
    "    return df"
   ]
  },
  {
   "cell_type": "code",
   "execution_count": 12,
   "id": "e5f151dd",
   "metadata": {},
   "outputs": [],
   "source": [
    "    \n",
    "## Randomize and pick only 500 (find a number) odd samples from this df before appending to file\n",
    "## Plots required when testing 2 classes - \n",
    "## Model performance - ROC curve\n",
    "## Truth Matrix\n",
    "## Accuracy \n",
    "## Code performance - Time taken for model (training, testing, prediction), sys_module memory, size of inputs, Total time"
   ]
  },
  {
   "cell_type": "code",
   "execution_count": 13,
   "id": "bd979894",
   "metadata": {},
   "outputs": [
    {
     "data": {
      "text/plain": [
       "6127"
      ]
     },
     "execution_count": 13,
     "metadata": {},
     "output_type": "execute_result"
    }
   ],
   "source": [
    "len(indices)"
   ]
  },
  {
   "cell_type": "code",
   "execution_count": 16,
   "id": "20c54e00",
   "metadata": {},
   "outputs": [],
   "source": [
    "def get_df(samp, n):\n",
    "    df = split_n_seconds(indices[0], ragams[0], samp, n)\n",
    "    print(df.head())\n",
    "    for i in range(1, len(indices)):\n",
    "        if i % 100 == 0:\n",
    "            print('{} {}'.format(i, datetime.now().strftime(\"%H:%M:%S\")))\n",
    "        df = df.append(split_n_seconds(indices[i], ragams[i], samp, n))\n",
    "    df = df.reset_index()\n",
    "    df = df.drop(['level_0', 'index'], axis = 1)\n",
    "    return df"
   ]
  },
  {
   "cell_type": "code",
   "execution_count": 208,
   "id": "bd880c11",
   "metadata": {},
   "outputs": [
    {
     "name": "stdout",
     "output_type": "stream",
     "text": [
      "100 19:18:25\n",
      "200 19:18:57\n",
      "300 19:19:28\n",
      "400 19:21:13\n",
      "500 19:21:49\n",
      "600 19:22:25\n",
      "700 19:23:00\n",
      "800 19:23:39\n",
      "900 19:24:53\n",
      "1000 19:25:23\n",
      "1100 19:25:57\n",
      "1200 19:26:44\n",
      "1300 19:27:20\n",
      "1400 19:28:34\n",
      "1500 19:29:15\n",
      "1600 19:29:47\n",
      "1700 19:30:27\n",
      "1800 19:31:01\n",
      "1900 19:31:39\n",
      "2000 19:32:41\n",
      "2100 19:33:20\n",
      "2200 19:34:02\n",
      "2300 19:34:38\n",
      "2400 19:35:14\n",
      "2500 19:36:27\n",
      "2600 19:37:05\n",
      "2700 19:37:49\n",
      "2800 19:38:40\n",
      "2900 19:39:19\n",
      "3000 19:40:57\n",
      "3100 19:41:30\n",
      "3200 19:42:16\n",
      "3300 19:42:49\n",
      "3400 19:43:27\n",
      "3500 19:43:58\n",
      "3600 19:45:44\n",
      "3700 19:46:24\n",
      "3800 19:47:05\n",
      "3900 19:47:51\n",
      "4000 19:48:27\n",
      "4100 19:50:11\n",
      "4200 19:50:47\n",
      "4300 19:51:32\n",
      "4400 19:52:14\n",
      "4500 19:52:53\n",
      "4600 19:54:35\n",
      "4700 19:55:22\n",
      "4800 19:56:03\n",
      "4900 19:56:41\n",
      "5000 19:57:22\n",
      "5100 19:59:20\n",
      "5200 19:59:54\n",
      "5300 20:00:36\n",
      "5400 20:01:23\n",
      "5500 20:02:05\n",
      "5600 20:02:48\n",
      "5700 20:04:53\n",
      "5800 20:05:41\n",
      "5900 20:06:30\n",
      "6000 20:07:17\n",
      "6100 20:08:16\n"
     ]
    }
   ],
   "source": [
    "df_100_2 = get_df(100, 2)"
   ]
  },
  {
   "cell_type": "code",
   "execution_count": 1,
   "id": "e56cdd73",
   "metadata": {},
   "outputs": [],
   "source": [
    "import pandas as pd"
   ]
  },
  {
   "cell_type": "code",
   "execution_count": 211,
   "id": "85b30a63",
   "metadata": {},
   "outputs": [],
   "source": [
    "df_100_2.to_csv('samp_100_n_2.csv')"
   ]
  },
  {
   "cell_type": "code",
   "execution_count": 2,
   "id": "5008a023",
   "metadata": {},
   "outputs": [],
   "source": [
    "df_100_2 = pd.read_csv('samp_100_n_2.csv')"
   ]
  },
  {
   "cell_type": "code",
   "execution_count": 7,
   "id": "316304dd",
   "metadata": {},
   "outputs": [],
   "source": [
    "df_100_2_bal = df_100_2.groupby('Ragam', group_keys=False).apply(lambda x: x.sample(min(df_100_2['Ragam'].value_counts()))).reset_index(drop=True)\n",
    "df_100_2_bal = df_100_2_bal.drop(['Unnamed: 0'], axis = 1)"
   ]
  },
  {
   "cell_type": "code",
   "execution_count": 8,
   "id": "6e10a418",
   "metadata": {
    "scrolled": true
   },
   "outputs": [
    {
     "data": {
      "text/html": [
       "<div>\n",
       "<style scoped>\n",
       "    .dataframe tbody tr th:only-of-type {\n",
       "        vertical-align: middle;\n",
       "    }\n",
       "\n",
       "    .dataframe tbody tr th {\n",
       "        vertical-align: top;\n",
       "    }\n",
       "\n",
       "    .dataframe thead th {\n",
       "        text-align: right;\n",
       "    }\n",
       "</style>\n",
       "<table border=\"1\" class=\"dataframe\">\n",
       "  <thead>\n",
       "    <tr style=\"text-align: right;\">\n",
       "      <th></th>\n",
       "      <th>0</th>\n",
       "      <th>1</th>\n",
       "      <th>2</th>\n",
       "      <th>3</th>\n",
       "      <th>4</th>\n",
       "      <th>5</th>\n",
       "      <th>6</th>\n",
       "      <th>7</th>\n",
       "      <th>8</th>\n",
       "      <th>9</th>\n",
       "      <th>...</th>\n",
       "      <th>35</th>\n",
       "      <th>36</th>\n",
       "      <th>37</th>\n",
       "      <th>38</th>\n",
       "      <th>39</th>\n",
       "      <th>40</th>\n",
       "      <th>41</th>\n",
       "      <th>42</th>\n",
       "      <th>43</th>\n",
       "      <th>Ragam</th>\n",
       "    </tr>\n",
       "  </thead>\n",
       "  <tbody>\n",
       "    <tr>\n",
       "      <th>0</th>\n",
       "      <td>0.44</td>\n",
       "      <td>0.04</td>\n",
       "      <td>0.02</td>\n",
       "      <td>0.44</td>\n",
       "      <td>0.44</td>\n",
       "      <td>0.44</td>\n",
       "      <td>0.44</td>\n",
       "      <td>0.44</td>\n",
       "      <td>0.40</td>\n",
       "      <td>0.18</td>\n",
       "      <td>...</td>\n",
       "      <td>0.24</td>\n",
       "      <td>0.04</td>\n",
       "      <td>0.02</td>\n",
       "      <td>0.38</td>\n",
       "      <td>0.38</td>\n",
       "      <td>0.04</td>\n",
       "      <td>0.04</td>\n",
       "      <td>0.04</td>\n",
       "      <td>0.00</td>\n",
       "      <td>AbhEri</td>\n",
       "    </tr>\n",
       "    <tr>\n",
       "      <th>1</th>\n",
       "      <td>0.96</td>\n",
       "      <td>0.90</td>\n",
       "      <td>0.48</td>\n",
       "      <td>0.48</td>\n",
       "      <td>0.90</td>\n",
       "      <td>0.90</td>\n",
       "      <td>0.34</td>\n",
       "      <td>0.28</td>\n",
       "      <td>0.56</td>\n",
       "      <td>0.56</td>\n",
       "      <td>...</td>\n",
       "      <td>0.32</td>\n",
       "      <td>0.06</td>\n",
       "      <td>0.96</td>\n",
       "      <td>0.96</td>\n",
       "      <td>0.22</td>\n",
       "      <td>0.22</td>\n",
       "      <td>0.80</td>\n",
       "      <td>0.90</td>\n",
       "      <td>0.90</td>\n",
       "      <td>AbhEri</td>\n",
       "    </tr>\n",
       "    <tr>\n",
       "      <th>2</th>\n",
       "      <td>0.94</td>\n",
       "      <td>0.12</td>\n",
       "      <td>0.94</td>\n",
       "      <td>0.94</td>\n",
       "      <td>0.94</td>\n",
       "      <td>0.94</td>\n",
       "      <td>0.12</td>\n",
       "      <td>0.94</td>\n",
       "      <td>0.16</td>\n",
       "      <td>0.16</td>\n",
       "      <td>...</td>\n",
       "      <td>0.34</td>\n",
       "      <td>0.94</td>\n",
       "      <td>0.94</td>\n",
       "      <td>0.36</td>\n",
       "      <td>0.36</td>\n",
       "      <td>0.36</td>\n",
       "      <td>0.96</td>\n",
       "      <td>0.94</td>\n",
       "      <td>0.36</td>\n",
       "      <td>AbhEri</td>\n",
       "    </tr>\n",
       "    <tr>\n",
       "      <th>3</th>\n",
       "      <td>0.60</td>\n",
       "      <td>0.62</td>\n",
       "      <td>0.40</td>\n",
       "      <td>0.32</td>\n",
       "      <td>0.58</td>\n",
       "      <td>0.60</td>\n",
       "      <td>0.40</td>\n",
       "      <td>0.42</td>\n",
       "      <td>0.36</td>\n",
       "      <td>0.36</td>\n",
       "      <td>...</td>\n",
       "      <td>0.22</td>\n",
       "      <td>0.54</td>\n",
       "      <td>0.40</td>\n",
       "      <td>0.56</td>\n",
       "      <td>0.58</td>\n",
       "      <td>0.58</td>\n",
       "      <td>0.54</td>\n",
       "      <td>0.00</td>\n",
       "      <td>0.96</td>\n",
       "      <td>AbhEri</td>\n",
       "    </tr>\n",
       "    <tr>\n",
       "      <th>4</th>\n",
       "      <td>0.62</td>\n",
       "      <td>0.66</td>\n",
       "      <td>0.78</td>\n",
       "      <td>0.86</td>\n",
       "      <td>0.86</td>\n",
       "      <td>0.86</td>\n",
       "      <td>0.84</td>\n",
       "      <td>0.80</td>\n",
       "      <td>0.74</td>\n",
       "      <td>0.66</td>\n",
       "      <td>...</td>\n",
       "      <td>0.04</td>\n",
       "      <td>0.02</td>\n",
       "      <td>0.04</td>\n",
       "      <td>0.74</td>\n",
       "      <td>0.62</td>\n",
       "      <td>0.62</td>\n",
       "      <td>0.62</td>\n",
       "      <td>0.62</td>\n",
       "      <td>0.62</td>\n",
       "      <td>AbhEri</td>\n",
       "    </tr>\n",
       "  </tbody>\n",
       "</table>\n",
       "<p>5 rows × 45 columns</p>\n",
       "</div>"
      ],
      "text/plain": [
       "      0     1     2     3     4     5     6     7     8     9  ...    35  \\\n",
       "0  0.44  0.04  0.02  0.44  0.44  0.44  0.44  0.44  0.40  0.18  ...  0.24   \n",
       "1  0.96  0.90  0.48  0.48  0.90  0.90  0.34  0.28  0.56  0.56  ...  0.32   \n",
       "2  0.94  0.12  0.94  0.94  0.94  0.94  0.12  0.94  0.16  0.16  ...  0.34   \n",
       "3  0.60  0.62  0.40  0.32  0.58  0.60  0.40  0.42  0.36  0.36  ...  0.22   \n",
       "4  0.62  0.66  0.78  0.86  0.86  0.86  0.84  0.80  0.74  0.66  ...  0.04   \n",
       "\n",
       "     36    37    38    39    40    41    42    43   Ragam  \n",
       "0  0.04  0.02  0.38  0.38  0.04  0.04  0.04  0.00  AbhEri  \n",
       "1  0.06  0.96  0.96  0.22  0.22  0.80  0.90  0.90  AbhEri  \n",
       "2  0.94  0.94  0.36  0.36  0.36  0.96  0.94  0.36  AbhEri  \n",
       "3  0.54  0.40  0.56  0.58  0.58  0.54  0.00  0.96  AbhEri  \n",
       "4  0.02  0.04  0.74  0.62  0.62  0.62  0.62  0.62  AbhEri  \n",
       "\n",
       "[5 rows x 45 columns]"
      ]
     },
     "execution_count": 8,
     "metadata": {},
     "output_type": "execute_result"
    }
   ],
   "source": [
    "df_100_2_bal.head()"
   ]
  },
  {
   "cell_type": "code",
   "execution_count": 9,
   "id": "c7ddf336",
   "metadata": {},
   "outputs": [],
   "source": [
    "df_100_2_bal.to_csv('bal_samp_100_n_2.csv')"
   ]
  },
  {
   "cell_type": "code",
   "execution_count": 10,
   "id": "2c4b645a",
   "metadata": {},
   "outputs": [],
   "source": [
    "df_100_2_bal = pd.read_csv('bal_samp_100_n_2.csv')"
   ]
  },
  {
   "cell_type": "code",
   "execution_count": null,
   "id": "76c2ac8b",
   "metadata": {},
   "outputs": [],
   "source": [
    "import numpy as np # linear algebra\n",
    "import psutil\n",
    "import pandas as pd # data processing, CSV file I/O (e.g. pd.read_csv)\n",
    "#from keras.layers import Dense, Embedding, LSTM\n",
    "#from keras.models import Sequential\n",
    "#from sklearn.feature_extraction.text import CountVectorizer\n",
    "#from keras.preprocessing.text import Tokenizer\n",
    "#from keras.preprocessing.sequence import pad_sequences\n",
    "from sklearn.model_selection import train_test_split\n",
    "#from keras.utils.np_utils import to_categorical\n",
    "#from keras.callbacks import EarlyStopping"
   ]
  },
  {
   "cell_type": "code",
   "execution_count": 5,
   "id": "cb9873e7",
   "metadata": {},
   "outputs": [
    {
     "data": {
      "text/plain": [
       "svmem(total=17179869184, available=1874591744, percent=89.1, used=1761955840, free=674664448, active=1201696768, inactive=1093586944, wired=560259072)"
      ]
     },
     "execution_count": 5,
     "metadata": {},
     "output_type": "execute_result"
    }
   ],
   "source": [
    "psutil.virtual_memory()\n"
   ]
  },
  {
   "cell_type": "code",
   "execution_count": null,
   "id": "c672ad66",
   "metadata": {},
   "outputs": [],
   "source": [
    "model = Sequential()\n",
    "#model.add(Embedding(n_most_common_words, emb_dim, input_length=X.shape[1]))\n",
    "#model.add(SpatialDropout1D(0.7))\n",
    "model.add(LSTM(64, dropout=0.7, recurrent_dropout=0.7))\n",
    "model.add(Dense(4, activation='softmax'))\n",
    "model.compile(optimizer='adam', loss='categorical_crossentropy', metrics=['acc'])\n",
    "print(model.summary())\n",
    "history = model.fit(X_train, y_train, epochs=epochs, batch_size=batch_size,validation_split=0.2,callbacks=[EarlyStopping(monitor='val_loss',patience=7, min_delta=0.0001)])"
   ]
  },
  {
   "cell_type": "code",
   "execution_count": 17,
   "id": "97c1d756",
   "metadata": {},
   "outputs": [
    {
     "ename": "AttributeError",
     "evalue": "'NoneType' object has no attribute 'head'",
     "output_type": "error",
     "traceback": [
      "\u001b[0;31m---------------------------------------------------------------------------\u001b[0m",
      "\u001b[0;31mAttributeError\u001b[0m                            Traceback (most recent call last)",
      "\u001b[0;32m<ipython-input-17-02710e895b66>\u001b[0m in \u001b[0;36m<module>\u001b[0;34m\u001b[0m\n\u001b[0;32m----> 1\u001b[0;31m \u001b[0mdf_70_3\u001b[0m \u001b[0;34m=\u001b[0m \u001b[0mget_df\u001b[0m\u001b[0;34m(\u001b[0m\u001b[0;36m70\u001b[0m\u001b[0;34m,\u001b[0m \u001b[0;36m3\u001b[0m\u001b[0;34m)\u001b[0m\u001b[0;34m\u001b[0m\u001b[0;34m\u001b[0m\u001b[0m\n\u001b[0m\u001b[1;32m      2\u001b[0m \u001b[0mdf_70_3\u001b[0m\u001b[0;34m.\u001b[0m\u001b[0mto_csv\u001b[0m\u001b[0;34m(\u001b[0m\u001b[0;34m'bal_samp_70_n_3.csv'\u001b[0m\u001b[0;34m)\u001b[0m\u001b[0;34m\u001b[0m\u001b[0;34m\u001b[0m\u001b[0m\n",
      "\u001b[0;32m<ipython-input-16-5423237fc18b>\u001b[0m in \u001b[0;36mget_df\u001b[0;34m(samp, n)\u001b[0m\n\u001b[1;32m      1\u001b[0m \u001b[0;32mdef\u001b[0m \u001b[0mget_df\u001b[0m\u001b[0;34m(\u001b[0m\u001b[0msamp\u001b[0m\u001b[0;34m,\u001b[0m \u001b[0mn\u001b[0m\u001b[0;34m)\u001b[0m\u001b[0;34m:\u001b[0m\u001b[0;34m\u001b[0m\u001b[0;34m\u001b[0m\u001b[0m\n\u001b[1;32m      2\u001b[0m     \u001b[0mdf\u001b[0m \u001b[0;34m=\u001b[0m \u001b[0msplit_n_seconds\u001b[0m\u001b[0;34m(\u001b[0m\u001b[0mindices\u001b[0m\u001b[0;34m[\u001b[0m\u001b[0;36m1\u001b[0m\u001b[0;34m]\u001b[0m\u001b[0;34m,\u001b[0m \u001b[0mragams\u001b[0m\u001b[0;34m[\u001b[0m\u001b[0;36m1\u001b[0m\u001b[0;34m]\u001b[0m\u001b[0;34m,\u001b[0m \u001b[0msamp\u001b[0m\u001b[0;34m,\u001b[0m \u001b[0mn\u001b[0m\u001b[0;34m)\u001b[0m\u001b[0;34m\u001b[0m\u001b[0;34m\u001b[0m\u001b[0m\n\u001b[0;32m----> 3\u001b[0;31m     \u001b[0mprint\u001b[0m\u001b[0;34m(\u001b[0m\u001b[0mdf\u001b[0m\u001b[0;34m.\u001b[0m\u001b[0mhead\u001b[0m\u001b[0;34m(\u001b[0m\u001b[0;34m)\u001b[0m\u001b[0;34m)\u001b[0m\u001b[0;34m\u001b[0m\u001b[0;34m\u001b[0m\u001b[0m\n\u001b[0m\u001b[1;32m      4\u001b[0m     \u001b[0;32mfor\u001b[0m \u001b[0mi\u001b[0m \u001b[0;32min\u001b[0m \u001b[0mrange\u001b[0m\u001b[0;34m(\u001b[0m\u001b[0;36m2\u001b[0m\u001b[0;34m,\u001b[0m \u001b[0mlen\u001b[0m\u001b[0;34m(\u001b[0m\u001b[0mindices\u001b[0m\u001b[0;34m)\u001b[0m\u001b[0;34m)\u001b[0m\u001b[0;34m:\u001b[0m\u001b[0;34m\u001b[0m\u001b[0;34m\u001b[0m\u001b[0m\n\u001b[1;32m      5\u001b[0m         \u001b[0;32mif\u001b[0m \u001b[0mi\u001b[0m \u001b[0;34m%\u001b[0m \u001b[0;36m100\u001b[0m \u001b[0;34m==\u001b[0m \u001b[0;36m0\u001b[0m\u001b[0;34m:\u001b[0m\u001b[0;34m\u001b[0m\u001b[0;34m\u001b[0m\u001b[0m\n",
      "\u001b[0;31mAttributeError\u001b[0m: 'NoneType' object has no attribute 'head'"
     ]
    }
   ],
   "source": [
    "df_70_3 = get_df(70, 3)\n",
    "df_70_3.to_csv('bal_samp_70_n_3.csv')"
   ]
  },
  {
   "cell_type": "code",
   "execution_count": null,
   "id": "a4282c7b",
   "metadata": {},
   "outputs": [],
   "source": []
  }
 ],
 "metadata": {
  "kernelspec": {
   "display_name": "Python 3",
   "language": "python",
   "name": "python3"
  },
  "language_info": {
   "codemirror_mode": {
    "name": "ipython",
    "version": 3
   },
   "file_extension": ".py",
   "mimetype": "text/x-python",
   "name": "python",
   "nbconvert_exporter": "python",
   "pygments_lexer": "ipython3",
   "version": "3.8.8"
  }
 },
 "nbformat": 4,
 "nbformat_minor": 5
}
